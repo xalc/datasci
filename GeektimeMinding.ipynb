{
 "cells": [
  {
   "cell_type": "code",
   "execution_count": 16,
   "metadata": {},
   "outputs": [
    {
     "ename": "TypeError",
     "evalue": "a bytes-like object is required, not 'str'",
     "output_type": "error",
     "traceback": [
      "\u001b[0;31m---------------------------------------------------------------------------\u001b[0m",
      "\u001b[0;31mTypeError\u001b[0m                                 Traceback (most recent call last)",
      "\u001b[0;32m<ipython-input-16-0205317647b7>\u001b[0m in \u001b[0;36m<module>\u001b[0;34m\u001b[0m\n\u001b[1;32m     42\u001b[0m \u001b[0mparsedDom\u001b[0m \u001b[0;34m=\u001b[0m \u001b[0mbrowser\u001b[0m\u001b[0;34m.\u001b[0m\u001b[0mfind_elements_by_class_name\u001b[0m\u001b[0;34m(\u001b[0m\u001b[0;34m\"_1yQOkMHx_0\"\u001b[0m\u001b[0;34m)\u001b[0m\u001b[0;34m\u001b[0m\u001b[0;34m\u001b[0m\u001b[0m\n\u001b[1;32m     43\u001b[0m \u001b[0mparseOneElement\u001b[0m\u001b[0;34m(\u001b[0m\u001b[0mparsedDom\u001b[0m\u001b[0;34m)\u001b[0m\u001b[0;34m\u001b[0m\u001b[0;34m\u001b[0m\u001b[0m\n\u001b[0;32m---> 44\u001b[0;31m \u001b[0mwrite_to_file\u001b[0m\u001b[0;34m(\u001b[0m\u001b[0mlists\u001b[0m\u001b[0;34m)\u001b[0m\u001b[0;34m\u001b[0m\u001b[0;34m\u001b[0m\u001b[0m\n\u001b[0m",
      "\u001b[0;32m<ipython-input-16-0205317647b7>\u001b[0m in \u001b[0;36mwrite_to_file\u001b[0;34m(lists)\u001b[0m\n\u001b[1;32m     24\u001b[0m     \u001b[0;32mwith\u001b[0m \u001b[0mopen\u001b[0m\u001b[0;34m(\u001b[0m\u001b[0;34m\"geek.csv\"\u001b[0m\u001b[0;34m,\u001b[0m\u001b[0;34m\"wb\"\u001b[0m\u001b[0;34m)\u001b[0m \u001b[0;32mas\u001b[0m \u001b[0mcsvfile\u001b[0m\u001b[0;34m:\u001b[0m\u001b[0;34m\u001b[0m\u001b[0;34m\u001b[0m\u001b[0m\n\u001b[1;32m     25\u001b[0m         \u001b[0mwriter\u001b[0m \u001b[0;34m=\u001b[0m \u001b[0mcsv\u001b[0m\u001b[0;34m.\u001b[0m\u001b[0mwriter\u001b[0m\u001b[0;34m(\u001b[0m\u001b[0mcsvfile\u001b[0m\u001b[0;34m)\u001b[0m\u001b[0;34m\u001b[0m\u001b[0;34m\u001b[0m\u001b[0m\n\u001b[0;32m---> 26\u001b[0;31m         \u001b[0mwriter\u001b[0m\u001b[0;34m.\u001b[0m\u001b[0mwriterows\u001b[0m\u001b[0;34m(\u001b[0m\u001b[0mlists\u001b[0m\u001b[0;34m)\u001b[0m\u001b[0;34m\u001b[0m\u001b[0;34m\u001b[0m\u001b[0m\n\u001b[0m\u001b[1;32m     27\u001b[0m \u001b[0;34m\u001b[0m\u001b[0m\n\u001b[1;32m     28\u001b[0m \u001b[0;32mdef\u001b[0m \u001b[0mparseOneElement\u001b[0m\u001b[0;34m(\u001b[0m\u001b[0melementDom\u001b[0m\u001b[0;34m)\u001b[0m\u001b[0;34m:\u001b[0m\u001b[0;34m\u001b[0m\u001b[0;34m\u001b[0m\u001b[0m\n",
      "\u001b[0;31mTypeError\u001b[0m: a bytes-like object is required, not 'str'"
     ]
    }
   ],
   "source": [
    "from selenium import webdriver\n",
    "import csv\n",
    "browser = webdriver.Chrome()\n",
    "\n",
    "def init_connect():\n",
    "    browser.get(\"https://time.geekbang.org/\")\n",
    "    browser.implicitly_wait(5)\n",
    "    #remove ads;\n",
    "    try:\n",
    "        closeButton = browser.find_element_by_class_name(\"_1TwiVsuM_0\")\n",
    "        closeButton.click()\n",
    "    except:\n",
    "        print(\"no ad poped up\")\n",
    "def scroll_to_bottom():\n",
    "    isbottom = False;\n",
    "    while(isbottom == False):\n",
    "        try:\n",
    "            isbottom =True\n",
    "            browser.find_element_by_class_name(\"_3hvNf8BE_0\")\n",
    "        except:\n",
    "            isbottom =False;\n",
    "            browser.execute_script('window.scrollTo(0, document.body.scrollHeight)')\n",
    "\n",
    "\n",
    "def parseOneElement(elementDom):\n",
    "    for item in elementDom:\n",
    "        title = item.find_element_by_tag_name('h3').text\n",
    "        author = item.find_element_by_class_name(\"vMl92iDh_0\").text\n",
    "        authorTitle = item.find_element_by_class_name(\"_2eQVglGQ_0\").text\n",
    "        learner = item.find_element_by_class_name(\"_3vYaOmbL_0\").text\n",
    "        price = item.find_element_by_class_name(\"_7ImCoNnW_0\").text\n",
    "        lists.append([title, author, authorTitle, learner, price])\n",
    "        \n",
    "init_connect()\n",
    "scroll_to_bottom()\n",
    "header = [\"title\",\"author\",\"authorTitle\",\"learner\",\"price\"]\n",
    "lists = []\n",
    "lists.append(header)\n",
    "parsedDom = browser.find_elements_by_class_name(\"_1yQOkMHx_0\")\n",
    "parseOneElement(parsedDom)\n",
    "write_to_file(lists)\n"
   ]
  },
  {
   "cell_type": "code",
   "execution_count": 10,
   "metadata": {},
   "outputs": [
    {
     "name": "stdout",
     "output_type": "stream",
     "text": [
      "罗剑锋的C++实战笔记 罗剑锋 奇虎360技术专家，Nginx/OpenResty开源项目贡献者 30讲 | 2406 人已学习 ¥68\n",
      "系统性能调优必知必会 陶辉 智链达CTO、前阿里云高级技术专家 34讲 | 4325 人已学习 ¥99\n",
      "分布式缓存高手课 程超 前易宝支付架构师、阿里云MVP、腾讯云TVP 53讲 | 2660 人已学习 ¥129\n",
      "视觉笔记入门课 高伟 视觉化咨询师、有画说社区发起人、视觉语言知识体系打造者和推广者 14讲 | 6538 人已学习 ¥39\n",
      "Serverless入门课 蒲松洋（秦粤） 前百度国际化前端组组长 14讲 | 4057 人已学习 ¥39\n",
      "Kafka核心源码解读 胡夕 友信金服商业智能部总监，Apache Kafka Contributor 40讲 | 3203 人已学习 ¥99\n",
      "Service Mesh实战 马若飞 FreeWheel 北京研发中心首席工程师、《Istio实战指南》作者 40讲 | 2344 人已学习 ¥129\n",
      "数据中台实战课 郭忆 网易大数据专家 19讲 | 2928 人已学习 ¥68\n",
      "检索技术核心20讲 陈东 奇虎360商业产品事业部资深总监 25讲 | 1788 人已学习 ¥68\n",
      "SRE实战手册 赵成 蘑菇街技术总监 13讲 | 3442 人已学习 ¥39\n"
     ]
    }
   ],
   "source": [
    "\n",
    "\n",
    "\n",
    "    \n",
    "    "
   ]
  },
  {
   "cell_type": "code",
   "execution_count": 50,
   "metadata": {},
   "outputs": [
    {
     "ename": "TypeError",
     "evalue": "write() argument must be str, not list",
     "output_type": "error",
     "traceback": [
      "\u001b[0;31m---------------------------------------------------------------------------\u001b[0m",
      "\u001b[0;31mTypeError\u001b[0m                                 Traceback (most recent call last)",
      "\u001b[0;32m<ipython-input-50-558300e0a45c>\u001b[0m in \u001b[0;36m<module>\u001b[0;34m\u001b[0m\n\u001b[1;32m     10\u001b[0m     \u001b[0;32mfor\u001b[0m \u001b[0mi\u001b[0m \u001b[0;32min\u001b[0m \u001b[0mrange\u001b[0m\u001b[0;34m(\u001b[0m\u001b[0mlen\u001b[0m\u001b[0;34m(\u001b[0m\u001b[0mlist\u001b[0m\u001b[0;34m)\u001b[0m\u001b[0;34m)\u001b[0m\u001b[0;34m:\u001b[0m\u001b[0;34m\u001b[0m\u001b[0;34m\u001b[0m\u001b[0m\n\u001b[1;32m     11\u001b[0m         \u001b[0mlist\u001b[0m\u001b[0;34m[\u001b[0m\u001b[0mi\u001b[0m\u001b[0;34m]\u001b[0m \u001b[0;34m=\u001b[0m \u001b[0mlist\u001b[0m\u001b[0;34m[\u001b[0m\u001b[0mi\u001b[0m\u001b[0;34m]\u001b[0m\u001b[0;34m.\u001b[0m\u001b[0mencode\u001b[0m\u001b[0;34m(\u001b[0m\u001b[0;34m)\u001b[0m\u001b[0;34m\u001b[0m\u001b[0;34m\u001b[0m\u001b[0m\n\u001b[0;32m---> 12\u001b[0;31m \u001b[0mwrite_to_file\u001b[0m\u001b[0;34m(\u001b[0m\u001b[0mlists\u001b[0m\u001b[0;34m)\u001b[0m\u001b[0;34m\u001b[0m\u001b[0;34m\u001b[0m\u001b[0m\n\u001b[0m",
      "\u001b[0;32m<ipython-input-50-558300e0a45c>\u001b[0m in \u001b[0;36mwrite_to_file\u001b[0;34m(lists)\u001b[0m\n\u001b[1;32m      3\u001b[0m         \u001b[0;32mfor\u001b[0m \u001b[0mlist\u001b[0m \u001b[0;32min\u001b[0m \u001b[0mlists\u001b[0m\u001b[0;34m:\u001b[0m\u001b[0;34m\u001b[0m\u001b[0;34m\u001b[0m\u001b[0m\n\u001b[1;32m      4\u001b[0m             \u001b[0;31m#convert_to_byte(list)\u001b[0m\u001b[0;34m\u001b[0m\u001b[0;34m\u001b[0m\u001b[0;34m\u001b[0m\u001b[0m\n\u001b[0;32m----> 5\u001b[0;31m             \u001b[0mcsvfile\u001b[0m\u001b[0;34m.\u001b[0m\u001b[0mwrite\u001b[0m\u001b[0;34m(\u001b[0m\u001b[0mlist\u001b[0m\u001b[0;34m)\u001b[0m\u001b[0;34m\u001b[0m\u001b[0;34m\u001b[0m\u001b[0m\n\u001b[0m\u001b[1;32m      6\u001b[0m \u001b[0;34m\u001b[0m\u001b[0m\n\u001b[1;32m      7\u001b[0m \u001b[0;34m\u001b[0m\u001b[0m\n",
      "\u001b[0;31mTypeError\u001b[0m: write() argument must be str, not list"
     ]
    }
   ],
   "source": [
    "def write_to_file(lists):\n",
    "    with open(\"geek.csv\",\"w\",newline='') as csvfile:\n",
    "        for list in lists:\n",
    "            #convert_to_byte(list)\n",
    "            csvfile.write(list)\n",
    "\n",
    " \n",
    "        \n",
    "def convert_to_byte(list):\n",
    "    for i in range(len(list)):\n",
    "        list[i] = list[i].encode()\n",
    "write_to_file(lists)"
   ]
  },
  {
   "cell_type": "code",
   "execution_count": 44,
   "metadata": {},
   "outputs": [
    {
     "name": "stdout",
     "output_type": "stream",
     "text": [
      "4\n",
      "[2, 3, 4, 11]\n"
     ]
    }
   ],
   "source": [
    "list = [1,2,3,4]\n",
    "list[3]=10\n",
    "print(len(list))\n",
    "for i in range(4):\n",
    "    list[i] =list[i]+1\n",
    "print(list)"
   ]
  },
  {
   "cell_type": "code",
   "execution_count": null,
   "metadata": {},
   "outputs": [],
   "source": []
  }
 ],
 "metadata": {
  "kernelspec": {
   "display_name": "Python 3",
   "language": "python",
   "name": "python3"
  },
  "language_info": {
   "codemirror_mode": {
    "name": "ipython",
    "version": 3
   },
   "file_extension": ".py",
   "mimetype": "text/x-python",
   "name": "python",
   "nbconvert_exporter": "python",
   "pygments_lexer": "ipython3",
   "version": "3.8.0"
  }
 },
 "nbformat": 4,
 "nbformat_minor": 4
}
